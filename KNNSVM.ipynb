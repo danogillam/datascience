{
 "cells": [
  {
   "cell_type": "markdown",
   "metadata": {},
   "source": [
    "# KNN and SVM\n",
    "### Dano Gillam"
   ]
  },
  {
   "cell_type": "code",
   "execution_count": 2,
   "metadata": {
    "collapsed": false
   },
   "outputs": [],
   "source": [
    "from __future__ import division\n",
    "import csv\n",
    "import random\n",
    "import operator\n",
    "from sklearn.datasets import load_iris\n",
    "import numpy as np\n",
    "\n",
    "def splitIris(split=1):\n",
    "    trainingSet = []\n",
    "    testSet = []\n",
    "    dataset = load_iris()['data']\n",
    "    datalabels = list(load_iris()['target'])\n",
    "    dataset = [list(dataset[x])+[datalabels[x]] for x in xrange(len(dataset))]\n",
    "    for x in range(len(dataset)-1):\n",
    "        if random.random() < split:\n",
    "            trainingSet.append(dataset[x])\n",
    "        else:\n",
    "            testSet.append(dataset[x])\n",
    "    return trainingSet,testSet\n",
    " \n",
    "class knn_iris():\n",
    "\n",
    "    def __init__(self, trainingSet):\n",
    "        self.trainingSet = trainingSet\n",
    "        self.predictions = []\n",
    "\n",
    "    def euclideanDistance(self, instance1, instance2, length):\n",
    "        distance = 0\n",
    "        for x in range(length):\n",
    "            distance += (instance1[x] - instance2[x])**2\n",
    "        return np.sqrt(distance)\n",
    "     \n",
    "    def getNeighbors(self, trainingSet, testInstance, k):\n",
    "        distances = []\n",
    "        length = len(testInstance)-1\n",
    "        for x in range(len(trainingSet)):\n",
    "            dist = self.euclideanDistance(testInstance, trainingSet[x], length)\n",
    "            distances.append((trainingSet[x], dist))\n",
    "        distances.sort(key=operator.itemgetter(1))\n",
    "        neighbors = []\n",
    "        for x in range(k):\n",
    "            neighbors.append(distances[x][0])\n",
    "        return neighbors\n",
    "     \n",
    "    def getResponse(self, neighbors):\n",
    "        classVotes = {}\n",
    "        for x in range(len(neighbors)):\n",
    "            response = neighbors[x][-1]\n",
    "            if response in classVotes:\n",
    "                classVotes[response] += 1\n",
    "            else:\n",
    "                classVotes[response] = 1\n",
    "        sortedVotes = sorted(classVotes.iteritems(), key=operator.itemgetter(1), reverse=True)\n",
    "        return sortedVotes[0][0]\n",
    "    \n",
    "    def classify(self, testSet,k=3):\n",
    "        self.predictions = []\n",
    "        for x in xrange(len(testSet)):\n",
    "            neighbors = self.getNeighbors(self.trainingSet, testSet[x], k)\n",
    "            result = self.getResponse(neighbors)\n",
    "            self.predictions.append(result)\n",
    "        accuracy = self.getAccuracy(testSet)\n",
    "\n",
    "    def getAccuracy(self, testSet):\n",
    "        correct = 0\n",
    "        for x in range(len(testSet)):\n",
    "            if testSet[x][-1] == self.predictions[x]:\n",
    "                correct += 1\n",
    "        accuracy = (correct/float(len(testSet))) \n",
    "        print('Accuracy: ' + repr(accuracy*100.) + '%')\n",
    "        return accuracy"
   ]
  },
  {
   "cell_type": "markdown",
   "metadata": {},
   "source": [
    "### Problems 1, 2, 3 KNN"
   ]
  },
  {
   "cell_type": "code",
   "execution_count": 3,
   "metadata": {
    "collapsed": false
   },
   "outputs": [
    {
     "name": "stdout",
     "output_type": "stream",
     "text": [
      "k= 1  >>  Accuracy: 100.0%\n",
      "k= 11  >>  Accuracy: 100.0%\n",
      "k= 21  >>  Accuracy: 100.0%\n",
      "k= 31  >>  Accuracy: 100.0%\n",
      "k= 41  >>  Accuracy: 100.0%\n",
      "k= 51  >>  Accuracy: 89.47368421052632%\n",
      "k= 61  >>  Accuracy: 63.1578947368421%\n",
      "k= 71  >>  Accuracy: 63.1578947368421%\n",
      "k= 81  >>  Accuracy: 59.64912280701754%\n",
      "k= 91  >>  Accuracy: 22.807017543859647%\n"
     ]
    }
   ],
   "source": [
    "def prob123():    \n",
    "    split = 0.67   \n",
    "    trainingSet,testSet = splitIris(split)\n",
    "\n",
    "    my_knn = knn_iris(trainingSet)\n",
    "    for k in xrange(1,100,10):\n",
    "        print \"k=\",k,\" >> \",\n",
    "        my_knn.classify(testSet,k)\n",
    "\n",
    "prob123()"
   ]
  },
  {
   "cell_type": "markdown",
   "metadata": {},
   "source": [
    "### Problems 4, 5 SVM"
   ]
  },
  {
   "cell_type": "code",
   "execution_count": 4,
   "metadata": {
    "collapsed": false
   },
   "outputs": [
    {
     "name": "stdout",
     "output_type": "stream",
     "text": [
      "\n",
      "polynomial:\n",
      "Terminated (singular KKT matrix).\n",
      "Accuracy: 67.69911504424779%\n",
      "\n",
      "rbf:\n",
      "Accuracy: 69.02654867256636%\n",
      "\n",
      "sigmoid:\n",
      "Terminated (singular KKT matrix).\n",
      "Accuracy: 67.69911504424779%\n"
     ]
    },
    {
     "data": {
      "text/plain": [
       "0.6769911504424779"
      ]
     },
     "execution_count": 4,
     "metadata": {},
     "output_type": "execute_result"
    }
   ],
   "source": [
    "import numpy as np\n",
    "import scipy as sp\n",
    "from scipy import linalg as la\n",
    "import cvxopt\n",
    "import pandas as pd\n",
    "cvxopt.solvers.options['show_progress']=False\n",
    "class SVM():\n",
    "\n",
    "    def __init__(self, data, target):\n",
    "        self.data = data\n",
    "        self.target = target.astype(float)\n",
    "        self.N = len(target)\n",
    "        self.kernel = lambda x, y: np.dot(x, y)\n",
    "\n",
    "    def setKernel(self, kernelname,a=1.5,d=.5,gam=.5,r=.5):\n",
    "        if kernelname == \"polynomial\":\n",
    "            self.kernel = lambda x, y: (np.dot(x, y) + a)**d\n",
    "        elif kernelname == \"rbf\":\n",
    "            self.kernel = lambda x, y: np.exp(-gam*la.norm(x-y)**2)\n",
    "        elif kernelname == \"sigmoid\":\n",
    "            self.kernel = lambda x, y: np.tanh(np.dot(x, y) + r)\n",
    "\n",
    "    def train(self):\n",
    "        K = np.array([[self.kernel(self.data[i], self.data[j]) for j in xrange(self.N)] for i in xrange(self.N)])\n",
    "\n",
    "        Q = cvxopt.matrix(np.outer(self.target, self.target)*K)\n",
    "        q = cvxopt.matrix(np.ones(self.N) * -1)\n",
    "        A = cvxopt.matrix(self.target, (1, self.N))\n",
    "        b = cvxopt.matrix(0.0)\n",
    "        G = cvxopt.matrix(-np.eye(self.N))\n",
    "        h = cvxopt.matrix(np.zeros(self.N))\n",
    "\n",
    "        solution = cvxopt.solvers.qp(Q, q, G, h, A, b)\n",
    "        self.a = np.ravel(solution['x'])\n",
    "\n",
    "    def predictone(self, x):\n",
    "        if int((self.a*self.target).dot( np.array([self.kernel(x, self.data[i,:]) for i in xrange(self.N)]))) > 0:\n",
    "            return 1\n",
    "        else:\n",
    "            return -1\n",
    "\n",
    "    def predict(self,X):\n",
    "        return [self.predictone(x) for x in X]\n",
    "\n",
    "def getAccuracy(prediction, testtarget):\n",
    "\tcorrect = 0\n",
    "\tfor x in range(len(prediction)):\n",
    "\t    if testtarget[x] == prediction[x]:\n",
    "\t\tcorrect += 1\n",
    "\taccuracy = (correct/float(len(testtarget))) \n",
    "\tprint('Accuracy: ' + repr(accuracy*100.) + '%')\n",
    "\treturn accuracy\n",
    "\n",
    "def splitCancer(split=1):\n",
    "    trainingSet = []\n",
    "    testSet = []\n",
    "\n",
    "    dataset = pd.read_csv(\"cancer.csv\").values.astype(int)\n",
    "    for x in xrange(len(dataset)-1):\n",
    "        if np.random.random() < split:\n",
    "            trainingSet.append(dataset[x])\n",
    "        else:\n",
    "            testSet.append(dataset[x])\n",
    "    return np.array(trainingSet),np.array(testSet)\n",
    "\n",
    "\n",
    "train, test = splitCancer(.67)\n",
    "traindata = train[:,:-1]\n",
    "traintarget =  train[:,-1]\n",
    "testdata = test[:,:-1]\n",
    "testtarget =  test[:,-1]\n",
    "\n",
    "mySVM = SVM(traindata,traintarget)\n",
    "\n",
    "print \"\\npolynomial:\"\n",
    "mySVM.setKernel(\"polynomial\")\n",
    "mySVM.train()\n",
    "predictions = mySVM.predict(testdata)\n",
    "getAccuracy(predictions, testtarget)\n",
    "\n",
    "print \"\\nrbf:\"\n",
    "mySVM.setKernel(\"rbf\")\n",
    "mySVM.train()\n",
    "predictions = mySVM.predict(testdata)\n",
    "getAccuracy(predictions, testtarget)\n",
    "\n",
    "print \"\\nsigmoid:\"\n",
    "mySVM.setKernel(\"sigmoid\")\n",
    "mySVM.train()\n",
    "predictions = mySVM.predict(testdata)\n",
    "getAccuracy(predictions, testtarget)"
   ]
  },
  {
   "cell_type": "code",
   "execution_count": null,
   "metadata": {
    "collapsed": true
   },
   "outputs": [],
   "source": []
  }
 ],
 "metadata": {
  "kernelspec": {
   "display_name": "Python 2",
   "language": "python",
   "name": "python2"
  },
  "language_info": {
   "codemirror_mode": {
    "name": "ipython",
    "version": 2
   },
   "file_extension": ".py",
   "mimetype": "text/x-python",
   "name": "python",
   "nbconvert_exporter": "python",
   "pygments_lexer": "ipython2",
   "version": "2.7.12"
  }
 },
 "nbformat": 4,
 "nbformat_minor": 0
}
