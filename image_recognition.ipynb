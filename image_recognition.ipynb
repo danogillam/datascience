{
 "cells": [
  {
   "cell_type": "markdown",
   "metadata": {},
   "source": [
    "# Dano Gillam Lab3"
   ]
  },
  {
   "cell_type": "code",
   "execution_count": 1,
   "metadata": {
    "collapsed": false
   },
   "outputs": [
    {
     "name": "stdout",
     "output_type": "stream",
     "text": [
      "Populating the interactive namespace from numpy and matplotlib\n"
     ]
    }
   ],
   "source": [
    "from __future__ import division\n",
    "import numpy as np\n",
    "from matplotlib import pyplot as plt\n",
    "import matplotlib\n",
    "import scipy.io\n",
    "%matplotlib inline\n",
    "%pylab inline\n",
    "\n",
    "from sklearn.neighbors import KernelDensity"
   ]
  },
  {
   "cell_type": "code",
   "execution_count": null,
   "metadata": {
    "collapsed": false
   },
   "outputs": [],
   "source": [
    "#load our data\n",
    " \n",
    "train_mat = scipy.io.loadmat('mnist_train.mat')\n",
    "\n",
    "train_data = train_mat['images']\n",
    "train_labels = train_mat['labels']\n",
    "\n",
    "test_mat = scipy.io.loadmat('mnist_test.mat')\n",
    "test_data = test_mat['t10k_images']\n",
    "test_labels = test_mat['t10k_labels']"
   ]
  },
  {
   "cell_type": "code",
   "execution_count": null,
   "metadata": {
    "collapsed": false
   },
   "outputs": [],
   "source": [
    "def test_classifier(classify,name ='kde',n=100):\n",
    "    correct = 0\n",
    "    confusion_matrix = np.zeros((10,10)) \n",
    "    for i in xrange(n):\n",
    "        test_letter = test_data[:,i]\n",
    "        test_label = test_labels[i,0]\n",
    "        predicted_label = classify(test_letter)\n",
    "        #print test_label,' = ',predicted_label\n",
    "        confusion_matrix[predicted_label,test_label]+=1\n",
    "        if predicted_label==test_label:correct+=1\n",
    "    error = (n-correct)/n\n",
    "    plt.pcolormesh(confusion_matrix)    \n",
    "    plt.gca().invert_yaxis()\n",
    "    plt.title('Confusion matrix using '+name+' on '+str(n)+' characters')    \n",
    "    plt.colorbar()\n",
    "    plt.xlabel('True class')\n",
    "    plt.ylabel('Predicted class')\n",
    "    plt.show()\n",
    "    print 'classification error rate: ',round(error*100,2),'%'"
   ]
  },
  {
   "cell_type": "markdown",
   "metadata": {},
   "source": [
    "# Part 1"
   ]
  },
  {
   "cell_type": "code",
   "execution_count": null,
   "metadata": {
    "collapsed": false
   },
   "outputs": [],
   "source": [
    "#plot expected value of a class\n",
    "avg_letters = {}\n",
    "for i in set(train_labels[:,0]):\n",
    "    letter_data = train_data[:,train_labels[:,0]==i]\n",
    "    avg_letter = np.mean(letter_data,axis=1)\n",
    "    avg_letters[i]=avg_letter\n",
    "    plt.subplot(3,4,i+1)\n",
    "    plt.axis('off')\n",
    "    plt.imshow( avg_lD[1].reshape(28,28)etter.reshape(28,28).T, interpolation='nearest', cmap=matplotlib.cm.gray)\n",
    "plt.show()\n",
    "print type(avg_letters.values())"
   ]
  },
  {
   "cell_type": "markdown",
   "metadata": {},
   "source": [
    "# Part 2"
   ]
  },
  {
   "cell_type": "code",
   "execution_count": 3,
   "metadata": {
    "collapsed": false
   },
   "outputs": [],
   "source": [
    "#classify a single point by comparing means of averages to means of our num\n",
    "\n",
    "def simple_classify(let):\n",
    "    nearest_let = 0\n",
    "    nearest_dist = np.inf\n",
    "    for key in avg_letters.keys():\n",
    "        dist =  np.mean((np.array(avg_letters[key])-let)**2)\n",
    "        if dist < nearest_dist:\n",
    "            nearest_let = key\n",
    "            nearest_dist = dist\n",
    "    return nearest_let\n",
    "\n",
    "    "
   ]
  },
  {
   "cell_type": "code",
   "execution_count": 4,
   "metadata": {
    "collapsed": false
   },
   "outputs": [
    {
     "data": {
      "image/png": "[encoded data removed]",
      "text/plain": [
       "<matplotlib.figure.Figure at 0x7f10f28ea610>"
      ]
     },
     "metadata": {},
     "output_type": "display_data"
    },
    {
     "name": "stdout",
     "output_type": "stream",
     "text": [
      "classification error rate:  17.97 %\n"
     ]
    }
   ],
   "source": [
    "#simple_classify on our test_data using train_data\n",
    "test_classifier(simple_classify,'class means',9999)"
   ]
  },
  {
   "cell_type": "markdown",
   "metadata": {},
   "source": [
    "# Part 3"
   ]
  },
  {
   "cell_type": "markdown",
   "metadata": {},
   "source": [
    "### The variance of our kernal does matter. especially for the extra credit problem."
   ]
  },
  {
   "cell_type": "code",
   "execution_count": null,
   "metadata": {
    "collapsed": false
   },
   "outputs": [],
   "source": [
    "def multinorm(x,mew,var=1):\n",
    "    return np.exp(var*-.5*np.dot(x-mew,x-mew))\n",
    "\n",
    "def kde_classify(let,data=train_data,labels=train_labels):\n",
    "    scores = np.zeros(len(set(labels[:,0])))\n",
    "    for class_ in set(labels[:,0]):\n",
    "        class_data = data[:,train_labels[:,0]==class_]  \n",
    "        for char in class_data.T:\n",
    "            scores[class_] += multinorm(let,char)\n",
    "        scores[class_]/=len(class_data)\n",
    "    return argmax(scores)       \n",
    "    "
   ]
  },
  {
   "cell_type": "code",
   "execution_count": null,
   "metadata": {
    "collapsed": false
   },
   "outputs": [],
   "source": [
    "test_classifier(kde_classify,'kde')"
   ]
  },
  {
   "cell_type": "markdown",
   "metadata": {},
   "source": [
    "# Extra Credit"
   ]
  },
  {
   "cell_type": "markdown",
   "metadata": {},
   "source": [
    "### By raising the variance and checking for the image with the lowest max probability of being a number, I found this picture of a cat."
   ]
  },
  {
   "cell_type": "code",
   "execution_count": null,
   "metadata": {
    "collapsed": false
   },
   "outputs": [],
   "source": [
    "def multinorm(x,mew,var=1):\n",
    "    return np.exp(var*-.5*np.dot(x-mew,x-mew))\n",
    "\n",
    "\n",
    "def kde_classify(let,data=train_data,labels=train_labels):\n",
    "    scores = np.zeros(len(set(labels[:,0])))\n",
    "    for class_ in set(labels[:,0]):\n",
    "        class_data = data[:,train_labels[:,0]==class_]  \n",
    "        for char in class_data.T:\n",
    "            scores[class_] += multinorm(let,char,.2)\n",
    "        scores[class_]/=len(class_data)\n",
    "    return argmax(scores),max(scores)   \n",
    "\n",
    "\n",
    "def find_outlier(classify,name ='kde',n=100):\n",
    "    outlier = 0\n",
    "    outlier_score = .9\n",
    "    for i in xrange(n):\n",
    "        test_letter = train_data[:,i]\n",
    "        predicted_score = classify(test_letter)[1]###############33\n",
    "        if predicted_score<outlier_score:\n",
    "            outlier_score = predicted_score\n",
    "            outlier = i\n",
    "    print 'outlier = ',outlier,'with FP: ',outlier_score\n",
    "    return outlier\n",
    "\n",
    "outlier = find_outlier(kde_classify)\n",
    "plt.imshow( train_data[:,outlier].reshape(28,28).T, interpolation='nearest', cmap=matplotlib.cm.gray)"
   ]
  },
  {
   "cell_type": "markdown",
   "metadata": {},
   "source": [
    "# Practice stuff"
   ]
  },
  {
   "cell_type": "code",
   "execution_count": null,
   "metadata": {
    "collapsed": false
   },
   "outputs": [],
   "source": [
    "#test \n",
    "n = 100 # a number index to classify\n",
    "print train_labels[n]\n",
    "practice_letter = train_data[:,n]\n",
    "plt.subplot(1,2,1)\n",
    "plt.imshow( practice_letter.reshape(28,28).T, interpolation='nearest', cmap=matplotlib.cm.gray)\n",
    "\n",
    "\n",
    "print classify(practice_letter)\n",
    "classified_practice_letter = avg_letters[classify(practice_letter)]\n",
    "plt.subplot(1,2,2)\n",
    "plt.imshow( classified_practice_letter.reshape(28,28).T, interpolation='nearest', cmap=matplotlib.cm.gray)\n",
    "plt.show()"
   ]
  },
  {
   "cell_type": "code",
   "execution_count": null,
   "metadata": {
    "collapsed": false
   },
   "outputs": [],
   "source": [
    "#a built in kde function\n",
    "from scipy.stats import gaussian_kde \n",
    "\n",
    "kde = gaussian_kde(range(11))\n",
    "\n",
    "X = np.linspace(-2,8,100)\n",
    "plt.plot(X,kde.pdf(X))\n",
    "plt.show()\n"
   ]
  },
  {
   "cell_type": "code",
   "execution_count": null,
   "metadata": {
    "collapsed": false
   },
   "outputs": [],
   "source": [
    "#a built in normal function\n",
    "from scipy.stats import multivariate_normal as normal\n",
    "X = np.linspace(-2,10,100)\n",
    "Y = normal.pdf(X,4,2)\n",
    "plt.plot(X,Y)\n",
    "plt.show()"
   ]
  },
  {
   "cell_type": "code",
   "execution_count": null,
   "metadata": {
    "collapsed": false
   },
   "outputs": [],
   "source": [
    "#my kde function\n",
    "def kde(M,a=-2,b=12,var=1.1):\n",
    "    #Arg: M our list of data\n",
    "    SIZE = 100\n",
    "    X = np.linspace(a,b,SIZE)\n",
    "    Y = np.zeros(SIZE)\n",
    "    for i in M:\n",
    "        Y += normal.pdf(X,i,var)\n",
    "    Y/=len(M)\n",
    "    plt.plot(X,Y)\n",
    "    plt.show()\n",
    "kde([1,2,2,2,2,3,3,3,4,4,4,4,4,4,5,5,5,5,6,6,6,6,6,7,7,7,7,7,7,7,8,8,8,8,8,9,9,9,9,10,10,10,10],-2,12,.05)"
   ]
  },
  {
   "cell_type": "code",
   "execution_count": null,
   "metadata": {
    "collapsed": false
   },
   "outputs": [],
   "source": [
    "avg_letters_list = np.array([avg_letters[key] for key in avg_letters.keys()])\n",
    "print avg_letters_list.shape\n",
    "print np.mean(avg_letters_list,axis=1).shape\n",
    "def lettergraph(let):\n",
    "    sol = []\n",
    "    for i in xrange(784):\n",
    "        sol += [i]*int(avg_letters[let][i]*1000)\n",
    "    return sol\n",
    "kde(lettergraph(3),0,784,20)"
   ]
  },
  {
   "cell_type": "code",
   "execution_count": null,
   "metadata": {
    "collapsed": true
   },
   "outputs": [],
   "source": []
  }
 ],
 "metadata": {
  "kernelspec": {
   "display_name": "Python 2",
   "language": "python",
   "name": "python2"
  },
  "language_info": {
   "codemirror_mode": {
    "name": "ipython",
    "version": 2
   },
   "file_extension": ".py",
   "mimetype": "text/x-python",
   "name": "python",
   "nbconvert_exporter": "python",
   "pygments_lexer": "ipython2",
   "version": "2.7.12"
  }
 },
 "nbformat": 4,
 "nbformat_minor": 0
}
